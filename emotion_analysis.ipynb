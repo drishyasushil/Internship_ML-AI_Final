{
 "cells": [
  {
   "cell_type": "code",
   "execution_count": null,
   "id": "57d00526-0a77-4a9a-af1a-af8ad8a556a0",
   "metadata": {},
   "outputs": [],
   "source": [
    "import tensorflow as tf\n",
    "import numpy as np\n",
    "\n",
    "\n",
    "model = tf.keras.models.load_model('path/to/your/pretrained/model.h5')\n",
    "\n",
    "# Define a dictionary to map the model's output indices to emotion labels\n",
    "emotion_labels = {0: 'Angry', 1: 'Disgust', 2: 'Fear', 3: 'Happy', 4: 'Sad', 5: 'Surprise', 6: 'Neutral'}\n",
    "\n",
    "def analyze_emotion(face_img):\n",
    "\n",
    "    face_img = cv2.resize(face_img, (48, 48))\n",
    "    face_img = face_img / 255.0  # Normalize pixel values to [0, 1]\n",
    "    face_img = np.expand_dims(face_img, axis=0)  # Add batch dimension\n",
    "\n",
    "    # Predict emotion using the pre-trained model\n",
    "    prediction = model.predict(face_img)\n",
    "    \n",
    "    # Get the predicted emotion label\n",
    "    predicted_label = emotion_labels[np.argmax(prediction)]\n",
    "\n",
    "    return predicted_label\n"
   ]
  },
  {
   "cell_type": "code",
   "execution_count": null,
   "id": "101c9b69-f709-4e81-b2a5-4d5555c42acf",
   "metadata": {},
   "outputs": [],
   "source": []
  }
 ],
 "metadata": {
  "kernelspec": {
   "display_name": "Python 3 (ipykernel)",
   "language": "python",
   "name": "python3"
  },
  "language_info": {
   "codemirror_mode": {
    "name": "ipython",
    "version": 3
   },
   "file_extension": ".py",
   "mimetype": "text/x-python",
   "name": "python",
   "nbconvert_exporter": "python",
   "pygments_lexer": "ipython3",
   "version": "3.8.10"
  }
 },
 "nbformat": 4,
 "nbformat_minor": 5
}
